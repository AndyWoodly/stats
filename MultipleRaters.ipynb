{
 "cells": [
  {
   "cell_type": "code",
   "execution_count": 60,
   "metadata": {
    "collapsed": false
   },
   "outputs": [],
   "source": [
    "import random\n",
    "from collections import defaultdict\n",
    "from collections import Counter\n",
    "\n",
    "def rater(value):\n",
    "    return value if random.random() < 0.6 else not value\n",
    "\n",
    "def experiment(iterations, nr_raters):\n",
    "    correct_total = 0\n",
    "\n",
    "    for c in xrange(iterations):\n",
    "        value = random.choice([True,False])\n",
    "        ratings = []\n",
    "        for r in xrange(nr_raters):\n",
    "            ratings.append(rater(value))\n",
    "        rating = Counter(ratings).most_common()[0][0]\n",
    "        #print(ratings, value)\n",
    "        correct = not(value ^ rating)\n",
    "        if correct:\n",
    "            correct_total += 1\n",
    "        #print(value, ratings, rating, correct)\n",
    "    return correct_total\n",
    "\n",
    "iterations = 10000\n",
    "\n",
    "data = []\n",
    "for r in xrange(1, 300, 2):\n",
    "    exp = (r, experiment(iterations, r))\n",
    "    data.append(exp)"
   ]
  },
  {
   "cell_type": "code",
   "execution_count": 59,
   "metadata": {
    "collapsed": false
   },
   "outputs": [
    {
     "data": {
      "image/png": "[encoded data removed]",
      "text/plain": [
       "<matplotlib.figure.Figure at 0x111b78c50>"
      ]
     },
     "metadata": {},
     "output_type": "display_data"
    }
   ],
   "source": [
    "%matplotlib inline\n",
    "import matplotlib.pyplot as plt\n",
    "plt.style.use('seaborn-whitegrid')\n",
    "import numpy as np\n",
    "\n",
    "fig = plt.figure()\n",
    "ax = plt.axes()\n",
    "\n",
    "x = map(lambda x: x[0], data)\n",
    "y = map(lambda x: x[1]/float(iterations), data)\n",
    "ax.plot(x, y);"
   ]
  },
  {
   "cell_type": "code",
   "execution_count": null,
   "metadata": {
    "collapsed": true
   },
   "outputs": [],
   "source": []
  }
 ],
 "metadata": {
  "kernelspec": {
   "display_name": "Python 2",
   "language": "python",
   "name": "python2"
  },
  "language_info": {
   "codemirror_mode": {
    "name": "ipython",
    "version": 2
   },
   "file_extension": ".py",
   "mimetype": "text/x-python",
   "name": "python",
   "nbconvert_exporter": "python",
   "pygments_lexer": "ipython2",
   "version": "2.7.16"
  }
 },
 "nbformat": 4,
 "nbformat_minor": 2
}
